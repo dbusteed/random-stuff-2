{
 "cells": [
  {
   "cell_type": "markdown",
   "id": "c20c485b-6674-407d-927b-0f622875731b",
   "metadata": {},
   "source": [
    "# Starred Expressions\n",
    "\n",
    "Useful for passing arguments to a function or unpacking items in a `list` or `dict`"
   ]
  },
  {
   "cell_type": "markdown",
   "id": "8d5f7004-95dc-4dbf-914e-504bf3e078a9",
   "metadata": {},
   "source": [
    "<br>\n",
    "\n",
    "### 1. Passing args to a function"
   ]
  },
  {
   "cell_type": "code",
   "execution_count": null,
   "id": "b04a136a-50cc-4248-8da3-84eff5188c52",
   "metadata": {},
   "outputs": [],
   "source": [
    "def add_three_numbers(a, b, c):\n",
    "    return a + b + c\n",
    "\n",
    "# without stars\n",
    "x = add_three_numbers(5, 7, 9)\n",
    "\n",
    "# single star (unpacking a list, via *args)\n",
    "args = [5, 7, 9]\n",
    "y = add_three_numbers(*args)\n",
    "\n",
    "# double star (unpacking a dict, via **kwargs)\n",
    "kwargs = {'a': 5, 'b': 7, 'c': 9}\n",
    "z = add_three_numbers(**kwargs)"
   ]
  },
  {
   "cell_type": "markdown",
   "id": "80c70511-6a33-46e6-9c46-d84f24cedb2f",
   "metadata": {},
   "source": [
    "<br>\n",
    "\n",
    "### 2. Unpacking items / combining stuff"
   ]
  },
  {
   "cell_type": "code",
   "execution_count": null,
   "id": "5764ba02-f404-44e5-afaa-fa235ab59fea",
   "metadata": {},
   "outputs": [],
   "source": [
    "base = [1, 2, 3]\n",
    "\n",
    "# create two version of a list with a \"template\"\n",
    "list_v1 = [*base, 4, 5]\n",
    "list_v2 = [*base, 5, 7]"
   ]
  },
  {
   "cell_type": "code",
   "execution_count": null,
   "id": "d82772f1-9185-41ca-afbf-f0a89894cfe9",
   "metadata": {},
   "outputs": [],
   "source": [
    "base = {'one': 1, 'two': 2}\n",
    "\n",
    "# unpack a dictionary with two stars\n",
    "dict_v1 = {**base, 'three': 3}\n",
    "dict_v2 = {**base, 'four': 4}"
   ]
  },
  {
   "cell_type": "code",
   "execution_count": null,
   "id": "f60f0107-c61e-41c1-bde1-4fbd25f311d8",
   "metadata": {},
   "outputs": [],
   "source": []
  }
 ],
 "metadata": {
  "kernelspec": {
   "display_name": "Python 3 (ipykernel)",
   "language": "python",
   "name": "python3"
  },
  "language_info": {
   "codemirror_mode": {
    "name": "ipython",
    "version": 3
   },
   "file_extension": ".py",
   "mimetype": "text/x-python",
   "name": "python",
   "nbconvert_exporter": "python",
   "pygments_lexer": "ipython3",
   "version": "3.10.9"
  }
 },
 "nbformat": 4,
 "nbformat_minor": 5
}
