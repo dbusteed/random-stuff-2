{
 "cells": [
  {
   "cell_type": "code",
   "execution_count": 57,
   "id": "e8cf0438-f552-47a4-8cde-121b771d09ec",
   "metadata": {},
   "outputs": [],
   "source": [
    "import numpy as np\n",
    "import pandas as pd\n",
    "\n",
    "from dask import delayed\n",
    "import dask.dataframe as dd\n",
    "import dask.array as da\n",
    "import dask.bag as db"
   ]
  },
  {
   "cell_type": "code",
   "execution_count": 58,
   "id": "8c5aa607-0e29-4cd4-940a-ab2cf52b066e",
   "metadata": {},
   "outputs": [],
   "source": [
    "pdf = pd.read_csv('../data/charges.csv')\n",
    "pdf = pd.concat([pdf] * 100)\n",
    "pdf = pdf.reset_index()\n",
    "\n",
    "ddf = dd.from_pandas(pdf, npartitions=2)"
   ]
  },
  {
   "cell_type": "code",
   "execution_count": 59,
   "id": "024fa205-ba44-4aaf-9e5e-90d286c981e5",
   "metadata": {},
   "outputs": [
    {
     "data": {
      "text/html": [
       "<div>\n",
       "<style scoped>\n",
       "    .dataframe tbody tr th:only-of-type {\n",
       "        vertical-align: middle;\n",
       "    }\n",
       "\n",
       "    .dataframe tbody tr th {\n",
       "        vertical-align: top;\n",
       "    }\n",
       "\n",
       "    .dataframe thead th {\n",
       "        text-align: right;\n",
       "    }\n",
       "</style>\n",
       "<table border=\"1\" class=\"dataframe\">\n",
       "  <thead>\n",
       "    <tr style=\"text-align: right;\">\n",
       "      <th></th>\n",
       "      <th>index</th>\n",
       "      <th>charges</th>\n",
       "      <th>bmi</th>\n",
       "      <th>gender</th>\n",
       "      <th>smoker</th>\n",
       "      <th>region</th>\n",
       "      <th>children</th>\n",
       "      <th>last_visit</th>\n",
       "    </tr>\n",
       "  </thead>\n",
       "  <tbody>\n",
       "    <tr>\n",
       "      <th>0</th>\n",
       "      <td>0</td>\n",
       "      <td>33467</td>\n",
       "      <td>37</td>\n",
       "      <td>male</td>\n",
       "      <td>yes</td>\n",
       "      <td>SE</td>\n",
       "      <td>1</td>\n",
       "      <td>2017-07-23</td>\n",
       "    </tr>\n",
       "    <tr>\n",
       "      <th>1</th>\n",
       "      <td>1</td>\n",
       "      <td>5023</td>\n",
       "      <td>20</td>\n",
       "      <td>female</td>\n",
       "      <td>yes</td>\n",
       "      <td>NW</td>\n",
       "      <td>3</td>\n",
       "      <td>2020-03-30</td>\n",
       "    </tr>\n",
       "    <tr>\n",
       "      <th>2</th>\n",
       "      <td>2</td>\n",
       "      <td>6713</td>\n",
       "      <td>24</td>\n",
       "      <td>male</td>\n",
       "      <td>no</td>\n",
       "      <td>NE</td>\n",
       "      <td>4</td>\n",
       "      <td>2018-01-31</td>\n",
       "    </tr>\n",
       "    <tr>\n",
       "      <th>3</th>\n",
       "      <td>3</td>\n",
       "      <td>10056</td>\n",
       "      <td>21</td>\n",
       "      <td>male</td>\n",
       "      <td>no</td>\n",
       "      <td>SE</td>\n",
       "      <td>4</td>\n",
       "      <td>2021-06-02</td>\n",
       "    </tr>\n",
       "    <tr>\n",
       "      <th>4</th>\n",
       "      <td>4</td>\n",
       "      <td>18994</td>\n",
       "      <td>35</td>\n",
       "      <td>male</td>\n",
       "      <td>yes</td>\n",
       "      <td>SE</td>\n",
       "      <td>5</td>\n",
       "      <td>2017-03-05</td>\n",
       "    </tr>\n",
       "    <tr>\n",
       "      <th>...</th>\n",
       "      <td>...</td>\n",
       "      <td>...</td>\n",
       "      <td>...</td>\n",
       "      <td>...</td>\n",
       "      <td>...</td>\n",
       "      <td>...</td>\n",
       "      <td>...</td>\n",
       "      <td>...</td>\n",
       "    </tr>\n",
       "    <tr>\n",
       "      <th>999995</th>\n",
       "      <td>9995</td>\n",
       "      <td>14397</td>\n",
       "      <td>26</td>\n",
       "      <td>male</td>\n",
       "      <td>no</td>\n",
       "      <td>NE</td>\n",
       "      <td>1</td>\n",
       "      <td>2018-09-28</td>\n",
       "    </tr>\n",
       "    <tr>\n",
       "      <th>999996</th>\n",
       "      <td>9996</td>\n",
       "      <td>22918</td>\n",
       "      <td>32</td>\n",
       "      <td>male</td>\n",
       "      <td>yes</td>\n",
       "      <td>SW</td>\n",
       "      <td>5</td>\n",
       "      <td>2021-11-24</td>\n",
       "    </tr>\n",
       "    <tr>\n",
       "      <th>999997</th>\n",
       "      <td>9997</td>\n",
       "      <td>4606</td>\n",
       "      <td>25</td>\n",
       "      <td>female</td>\n",
       "      <td>yes</td>\n",
       "      <td>NE</td>\n",
       "      <td>2</td>\n",
       "      <td>2017-12-16</td>\n",
       "    </tr>\n",
       "    <tr>\n",
       "      <th>999998</th>\n",
       "      <td>9998</td>\n",
       "      <td>3776</td>\n",
       "      <td>27</td>\n",
       "      <td>male</td>\n",
       "      <td>yes</td>\n",
       "      <td>NE</td>\n",
       "      <td>1</td>\n",
       "      <td>2017-01-08</td>\n",
       "    </tr>\n",
       "    <tr>\n",
       "      <th>999999</th>\n",
       "      <td>9999</td>\n",
       "      <td>17546</td>\n",
       "      <td>30</td>\n",
       "      <td>female</td>\n",
       "      <td>yes</td>\n",
       "      <td>NW</td>\n",
       "      <td>3</td>\n",
       "      <td>2020-12-25</td>\n",
       "    </tr>\n",
       "  </tbody>\n",
       "</table>\n",
       "<p>1000000 rows × 8 columns</p>\n",
       "</div>"
      ],
      "text/plain": [
       "        index  charges  bmi  gender smoker region  children  last_visit\n",
       "0           0    33467   37    male    yes     SE         1  2017-07-23\n",
       "1           1     5023   20  female    yes     NW         3  2020-03-30\n",
       "2           2     6713   24    male     no     NE         4  2018-01-31\n",
       "3           3    10056   21    male     no     SE         4  2021-06-02\n",
       "4           4    18994   35    male    yes     SE         5  2017-03-05\n",
       "...       ...      ...  ...     ...    ...    ...       ...         ...\n",
       "999995   9995    14397   26    male     no     NE         1  2018-09-28\n",
       "999996   9996    22918   32    male    yes     SW         5  2021-11-24\n",
       "999997   9997     4606   25  female    yes     NE         2  2017-12-16\n",
       "999998   9998     3776   27    male    yes     NE         1  2017-01-08\n",
       "999999   9999    17546   30  female    yes     NW         3  2020-12-25\n",
       "\n",
       "[1000000 rows x 8 columns]"
      ]
     },
     "execution_count": 59,
     "metadata": {},
     "output_type": "execute_result"
    }
   ],
   "source": [
    "pdf"
   ]
  },
  {
   "cell_type": "code",
   "execution_count": 60,
   "id": "ba4b8ae0-8c7f-4b01-8a91-7856fe65cba3",
   "metadata": {},
   "outputs": [],
   "source": [
    "@delayed\n",
    "def slow_function(row):\n",
    "    if row['smoker'] == 'yes':\n",
    "        return np.power(row['charges'], 3)\n",
    "    else:\n",
    "        return np.power(row['charges'], 2)"
   ]
  },
  {
   "cell_type": "code",
   "execution_count": 61,
   "id": "7745e4f2-4e23-4958-a441-5bcb9b796439",
   "metadata": {},
   "outputs": [
    {
     "name": "stdout",
     "output_type": "stream",
     "text": [
      "6.57 s ± 157 ms per loop (mean ± std. dev. of 7 runs, 1 loop each)\n"
     ]
    }
   ],
   "source": [
    "# pandas dataframe (1M rows)\n",
    "%timeit pdf.apply(lambda row: slow_function, axis=1)"
   ]
  },
  {
   "cell_type": "code",
   "execution_count": 62,
   "id": "4ef6933f-9534-4090-b2c1-84a5cedf405b",
   "metadata": {},
   "outputs": [
    {
     "name": "stdout",
     "output_type": "stream",
     "text": [
      "12 s ± 552 ms per loop (mean ± std. dev. of 7 runs, 1 loop each)\n"
     ]
    }
   ],
   "source": [
    "# dask dataframe (1M rows, 10 partitions)\n",
    "%timeit ddf.apply(lambda row: slow_function, axis=1, meta=(None, 'object')).compute()"
   ]
  },
  {
   "cell_type": "code",
   "execution_count": null,
   "id": "b68ce903-c218-4a49-83d0-bd3eed7385dd",
   "metadata": {},
   "outputs": [],
   "source": []
  }
 ],
 "metadata": {
  "kernelspec": {
   "display_name": "Python 3 (ipykernel)",
   "language": "python",
   "name": "python3"
  },
  "language_info": {
   "codemirror_mode": {
    "name": "ipython",
    "version": 3
   },
   "file_extension": ".py",
   "mimetype": "text/x-python",
   "name": "python",
   "nbconvert_exporter": "python",
   "pygments_lexer": "ipython3",
   "version": "3.10.8"
  }
 },
 "nbformat": 4,
 "nbformat_minor": 5
}
